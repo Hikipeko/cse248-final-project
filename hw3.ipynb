{
 "cells": [
  {
   "cell_type": "markdown",
   "metadata": {},
   "source": [
    "### 1.3\n",
    "\n",
    "Instead of doing analytic analysis, we use the following program to estimate the average error.\n",
    "\n",
    "We made the following assumptions about the problem:\n",
    "\n",
    "1. The x components follows the uniform distrubution ranging from 0 to 1.\n",
    "2. Gamma is the parameter for log sum estimation, tested among [1, 0.5, 0.3, 0.2, 0.1]\n",
    "3. Length is the dimension of X vectors (number of pins), tested among range(2, 10)\n",
    "4. The error is defined as (estimated_value - real_max_value) / real_value\n",
    "5. N = 300 is the number of samples we generate for each fixed (gamma, length) pair"
   ]
  },
  {
   "cell_type": "code",
   "execution_count": 1,
   "metadata": {},
   "outputs": [
    {
     "name": "stdout",
     "output_type": "stream",
     "text": [
      "Gamma: 1, Length: 2, Average Error: 1.2143\n",
      "Gamma: 1, Length: 3, Average Error: 1.3092\n",
      "Gamma: 1, Length: 4, Average Error: 1.5269\n",
      "Gamma: 1, Length: 5, Average Error: 1.6541\n",
      "Gamma: 1, Length: 6, Average Error: 1.7562\n",
      "Gamma: 1, Length: 7, Average Error: 1.8681\n",
      "Gamma: 1, Length: 8, Average Error: 2.0005\n",
      "Gamma: 1, Length: 9, Average Error: 2.0315\n",
      "Gamma: 0.5, Length: 2, Average Error: 0.5222\n",
      "Gamma: 0.5, Length: 3, Average Error: 0.5439\n",
      "Gamma: 0.5, Length: 4, Average Error: 0.6435\n",
      "Gamma: 0.5, Length: 5, Average Error: 0.6867\n",
      "Gamma: 0.5, Length: 6, Average Error: 0.7310\n",
      "Gamma: 0.5, Length: 7, Average Error: 0.7804\n",
      "Gamma: 0.5, Length: 8, Average Error: 0.8279\n",
      "Gamma: 0.5, Length: 9, Average Error: 0.8704\n",
      "Gamma: 0.3, Length: 2, Average Error: 0.2516\n",
      "Gamma: 0.3, Length: 3, Average Error: 0.2718\n",
      "Gamma: 0.3, Length: 4, Average Error: 0.3010\n",
      "Gamma: 0.3, Length: 5, Average Error: 0.3232\n",
      "Gamma: 0.3, Length: 6, Average Error: 0.3412\n",
      "Gamma: 0.3, Length: 7, Average Error: 0.3814\n",
      "Gamma: 0.3, Length: 8, Average Error: 0.3946\n",
      "Gamma: 0.3, Length: 9, Average Error: 0.4254\n",
      "Gamma: 0.2, Length: 2, Average Error: 0.1078\n",
      "Gamma: 0.2, Length: 3, Average Error: 0.1447\n",
      "Gamma: 0.2, Length: 4, Average Error: 0.1380\n",
      "Gamma: 0.2, Length: 5, Average Error: 0.1730\n",
      "Gamma: 0.2, Length: 6, Average Error: 0.1757\n",
      "Gamma: 0.2, Length: 7, Average Error: 0.1948\n",
      "Gamma: 0.2, Length: 8, Average Error: 0.2156\n",
      "Gamma: 0.2, Length: 9, Average Error: 0.2291\n",
      "Gamma: 0.1, Length: 2, Average Error: 0.0530\n",
      "Gamma: 0.1, Length: 3, Average Error: 0.0387\n",
      "Gamma: 0.1, Length: 4, Average Error: 0.0409\n",
      "Gamma: 0.1, Length: 5, Average Error: 0.0457\n",
      "Gamma: 0.1, Length: 6, Average Error: 0.0527\n",
      "Gamma: 0.1, Length: 7, Average Error: 0.0542\n",
      "Gamma: 0.1, Length: 8, Average Error: 0.0633\n",
      "Gamma: 0.1, Length: 9, Average Error: 0.0701\n"
     ]
    }
   ],
   "source": [
    "import numpy as np\n",
    "\n",
    "def log_sum_estimation(values, gamma=1):\n",
    "    return gamma * np.log(np.sum(np.exp(values / gamma)))\n",
    "\n",
    "np.random.seed(42)  # Setting a seed for reproducibility\n",
    "N = 300 # Number of samples\n",
    "\n",
    "for gamma in [1, 0.5, 0.3, 0.2, 0.1]:\n",
    "    for length in range(2, 10):\n",
    "        average_error = []\n",
    "        for _ in range(N):\n",
    "            sample = np.random.uniform(0, 1, length)\n",
    "            estimated_value = log_sum_estimation(sample, gamma)\n",
    "            real_value = np.max(sample)\n",
    "            average_error.append((estimated_value - real_value) / real_value)\n",
    "        average_error = sum(average_error) / len(average_error)\n",
    "        print(f\"Gamma: {gamma}, Length: {length}, Average Error: {average_error:.4f}\")"
   ]
  },
  {
   "cell_type": "markdown",
   "metadata": {},
   "source": [
    "The result is as follows:\n",
    "\n",
    "| Gamma | Length: 2 | Length: 3 | Length: 4 | Length: 5 | Length: 6 | Length: 7 | Length: 8 | Length: 9 |\n",
    "|-------|-----------|-----------|-----------|-----------|-----------|-----------|-----------|-----------|\n",
    "| 1     | 1.2143    | 1.3092    | 1.5269    | 1.6541    | 1.7562    | 1.8681    | 2.0005    | 2.0315    |\n",
    "| 0.5   | 0.5222    | 0.5439    | 0.6435    | 0.6867    | 0.7310    | 0.7804    | 0.8279    | 0.8704    |\n",
    "| 0.3   | 0.2516    | 0.2718    | 0.3010    | 0.3232    | 0.3412    | 0.3814    | 0.3946    | 0.4254    |\n",
    "| 0.2   | 0.1078    | 0.1447    | 0.1380    | 0.1730    | 0.1757    | 0.1948    | 0.2156    | 0.2291    |\n",
    "| 0.1   | 0.0530    | 0.0387    | 0.0409    | 0.0457    | 0.0527    | 0.0542    | 0.0633    | 0.0701    |\n",
    "\n",
    "The smaller the value of gamma, the smaller of the input lengh, the less the average error. Also, as gamma approaches zero, the average error also approaches zero."
   ]
  }
 ],
 "metadata": {
  "kernelspec": {
   "display_name": "ucsd",
   "language": "python",
   "name": "python3"
  },
  "language_info": {
   "codemirror_mode": {
    "name": "ipython",
    "version": 3
   },
   "file_extension": ".py",
   "mimetype": "text/x-python",
   "name": "python",
   "nbconvert_exporter": "python",
   "pygments_lexer": "ipython3",
   "version": "3.10.12"
  }
 },
 "nbformat": 4,
 "nbformat_minor": 2
}
